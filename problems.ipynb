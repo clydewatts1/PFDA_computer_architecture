{
 "cells": [
  {
   "cell_type": "markdown",
   "id": "edaaf6bd",
   "metadata": {},
   "source": [
    "# Compute Architecure - Assessment\n",
    "**Course**: TU 2025 25-26: 8645 -- COMPUTER INFRASTRUCTURE  \n",
    "**Lecturer**: Ian McLauglin  \n",
    "**Author**: Clyde Watts  \n",
    "\n",
    "\n",
    "\n",
    "\n",
    "\n",
    "\n"
   ]
  },
  {
   "cell_type": "markdown",
   "id": "885352aa",
   "metadata": {},
   "source": [
    "### Imports\n",
    "\n",
    "yfinance - financial ticker data from yahoo  - [yfinance](https://github.com/ranaroussi/yfinance)\n",
    "datetime - pythons inbuild date time\n",
    "logging - python logging\n",
    "os - operating system functions\n",
    "glob - file selector"
   ]
  },
  {
   "cell_type": "code",
   "execution_count": 41,
   "id": "a76c5c81",
   "metadata": {},
   "outputs": [],
   "source": [
    "import yfinance\n",
    "import logging\n",
    "from datetime import datetime, timedelta\n",
    "import os\n",
    "import glob\n",
    "import pandas as pd\n",
    "import matplotlib.pyplot as plt\n",
    "import seaborn as sns"
   ]
  },
  {
   "cell_type": "markdown",
   "id": "6cf1914b",
   "metadata": {},
   "source": [
    "##  Initialisation"
   ]
  },
  {
   "cell_type": "code",
   "execution_count": 10,
   "id": "2dca9f4b",
   "metadata": {},
   "outputs": [],
   "source": [
    "# init logging\n",
    "logging.basicConfig(level=logging.INFO)"
   ]
  },
  {
   "cell_type": "markdown",
   "id": "2c48bb87",
   "metadata": {},
   "source": [
    "## Problem 1: Data from yfinance\n",
    "\n",
    "Using the [yfinance](https://github.com/ranaroussi/yfinance) Python package, write a function called `get_data()` that downloads all hourly data for the previous five days for the five FAANG stocks:\n",
    "\n",
    "- Facebook (META)\n",
    "- Apple (AAPL)\n",
    "- Amazon (AMZN)\n",
    "- Netflix (NFLX)\n",
    "- Google (GOOG)\n",
    "\n",
    "The function should save the data into a folder called `data` in the root of your repository using a filename with the format `YYYYMMDD-HHmmss.csv` where `YYYYMMDD` is the four-digit year (e.g. 2025), followed by the two-digit month (e.g. `09` for September), followed by the two digit day, and `HHmmss` is hour, minutes, seconds.\n",
    "Create the `data` folder if you don't already have one."
   ]
  },
  {
   "cell_type": "markdown",
   "id": "68775099",
   "metadata": {},
   "source": [
    "Problem 1: Requirements\n",
    "\n",
    "##Extract##\n",
    "\n",
    "1. Extract from yfinance data the stock data for META,AAPL,AMZN,NFLX,GOOG\n",
    "2. For 5 complete previous days , that is TODAY - 6 days to TODAY -1 day , exclude TODAY because it is not complete\n",
    "3. File format will YYYYMMDD-HHmmss.csv where YYYY - is 4 digit year , MM month 01-12 , DD - is 01-31. HH - hours , 24 our clock , mm - minutes 00-59 , seconds 00-59.\n",
    "4. Grain - Hour\n",
    "\n",
    "Column\n",
    "Date , <ticket> ( Open,High,Low,Close,Volume) ....\n",
    "ticket is META , AAPL , AMZN , NFLX or GOOG\n",
    "Open - open price\n",
    "Close - close price\n",
    "High - High pricr\n",
    "Low - Low price\n",
    "Volumn - Volume in period \n",
    " \n",
    "\n",
    "Question - What about Daylight saving time - over and under hour every size months"
   ]
  },
  {
   "cell_type": "markdown",
   "id": "4e75dddb",
   "metadata": {},
   "source": []
  },
  {
   "cell_type": "code",
   "execution_count": 11,
   "id": "ea49ba64",
   "metadata": {},
   "outputs": [],
   "source": [
    "# prototype for extracting stock data\n",
    "tickers = [\"META\", \"AAPL\", \"AMZN\", \"NFLX\", \"GOOG\"]\n",
    "def get_data(tickers = tickers,start_date=None, end_date=None,interval=\"1h\",data_path=\"./data/\"):\n",
    "    \"\"\"Function to get stock data from yfinance\"\"\"\n",
    "    if start_date is None:\n",
    "        start_date = (datetime.now() - timedelta(days=6)).strftime(\"%Y-%m-%d\")\n",
    "        # create file name based on current date and time\n",
    "        file_name = f\"{data_path}{datetime.now().strftime('%Y%m%d_%H%M%S')}.csv\"\n",
    "    else:\n",
    "        # convert start_date to datetime object\n",
    "        start_date_time = datetime.strptime(start_date, \"%Y-%m-%d\")\n",
    "        # create file name based on start time and 23:59:59 of end date\n",
    "        start_date_str = start_date_time.strftime(\"%Y%m%d\") + \"_235959\"\n",
    "        file_name = f\"{data_path}{start_date_str}.csv\"\n",
    "    if end_date is None:\n",
    "        end_date = (datetime.now() - timedelta(days=1)).strftime(\"%Y-%m-%d\")\n",
    "    # check if directory exists\n",
    "    if not os.path.exists(data_path):\n",
    "        logging.info(f\"Creating directory: {data_path}\")\n",
    "        os.makedirs(data_path)\n",
    "    # if file exists then delete it\n",
    "    if os.path.exists(file_name):\n",
    "        logging.info(f\"Deleting existing file: {file_name}\")\n",
    "        os.remove(file_name)\n",
    "    logging.info(f\"Start Date: {start_date}, End Date: {end_date}\")\n",
    "    df_data = yfinance.download(tickers, interval=interval, group_by='ticker',start=start_date, end=end_date)\n",
    "    # Save the data to a CSV file\n",
    "    df_data.to_csv(file_name)\n",
    "    return df_data\n",
    "   \n",
    "\n"
   ]
  },
  {
   "cell_type": "code",
   "execution_count": 12,
   "id": "a180ff35",
   "metadata": {},
   "outputs": [
    {
     "name": "stderr",
     "output_type": "stream",
     "text": [
      "INFO:root:Start Date: 2025-09-24, End Date: 2025-09-29\n",
      "C:\\Users\\cw171001\\AppData\\Local\\Temp\\ipykernel_17928\\357208236.py:26: FutureWarning: YF.download() has changed argument auto_adjust default to True\n",
      "  df_data = yfinance.download(tickers, interval=interval, group_by='ticker',start=start_date, end=end_date)\n",
      "[*********************100%***********************]  5 of 5 completed\n"
     ]
    }
   ],
   "source": [
    "df = get_data(tickers=tickers)"
   ]
  },
  {
   "cell_type": "markdown",
   "id": "cdf925c5",
   "metadata": {},
   "source": [
    "## Problem 2: Plotting Data\n",
    "\n",
    "Write a function called `plot_data()` that opens the latest data file in the `data` folder and, on one plot, plots the `Close` prices for each of the five stocks.\n",
    "The plot should include axis labels, a legend, and the date as a title.\n",
    "The function should save the plot into a `plots` folder in the root of your repository using a filename in the format `YYYYMMDD-HHmmss.png`.\n",
    "Create the `plots` folder if you don't already have one."
   ]
  },
  {
   "cell_type": "markdown",
   "id": "fe156c9c",
   "metadata": {},
   "source": [
    "Requirements\n",
    "\n",
    "1. Glob the data folder for YYYYMMDD_hhmmss.csv files. \n",
    "    1. We will glob the files looking for the pattern 20*.*csv\n",
    "    1.\n",
    "\n",
    "References\n",
    "\n",
    "https://docs.python.org/3/library/glob.html\n"
   ]
  },
  {
   "cell_type": "code",
   "execution_count": 45,
   "id": "0ff18c07",
   "metadata": {},
   "outputs": [
    {
     "name": "stdout",
     "output_type": "stream",
     "text": [
      "<class 'pandas.core.frame.DataFrame'>\n",
      "DatetimeIndex: 21 entries, 2025-09-24 13:30:00+00:00 to 2025-09-26 19:30:00+00:00\n",
      "Data columns (total 25 columns):\n",
      " #   Column          Non-Null Count  Dtype  \n",
      "---  ------          --------------  -----  \n",
      " 0   (AAPL, Open)    21 non-null     float64\n",
      " 1   (AAPL, High)    21 non-null     float64\n",
      " 2   (AAPL, Low)     21 non-null     float64\n",
      " 3   (AAPL, Close)   21 non-null     float64\n",
      " 4   (AAPL, Volume)  21 non-null     int64  \n",
      " 5   (GOOG, Open)    21 non-null     float64\n",
      " 6   (GOOG, High)    21 non-null     float64\n",
      " 7   (GOOG, Low)     21 non-null     float64\n",
      " 8   (GOOG, Close)   21 non-null     float64\n",
      " 9   (GOOG, Volume)  21 non-null     int64  \n",
      " 10  (NFLX, Open)    21 non-null     float64\n",
      " 11  (NFLX, High)    21 non-null     float64\n",
      " 12  (NFLX, Low)     21 non-null     float64\n",
      " 13  (NFLX, Close)   21 non-null     float64\n",
      " 14  (NFLX, Volume)  21 non-null     int64  \n",
      " 15  (AMZN, Open)    21 non-null     float64\n",
      " 16  (AMZN, High)    21 non-null     float64\n",
      " 17  (AMZN, Low)     21 non-null     float64\n",
      " 18  (AMZN, Close)   21 non-null     float64\n",
      " 19  (AMZN, Volume)  21 non-null     int64  \n",
      " 20  (META, Open)    21 non-null     float64\n",
      " 21  (META, High)    21 non-null     float64\n",
      " 22  (META, Low)     21 non-null     float64\n",
      " 23  (META, Close)   21 non-null     float64\n",
      " 24  (META, Volume)  21 non-null     int64  \n",
      "dtypes: float64(20), int64(5)\n",
      "memory usage: 4.3 KB\n",
      "None\n",
      "Index(['AAPL', 'AMZN', 'GOOG', 'META', 'NFLX'], dtype='object', name='Ticker')\n",
      "Index(['Close', 'High', 'Low', 'Open', 'Volume'], dtype='object', name='Price')\n",
      "DatetimeIndex(['2025-09-24 13:30:00+00:00', '2025-09-24 14:30:00+00:00',\n",
      "               '2025-09-24 15:30:00+00:00', '2025-09-24 16:30:00+00:00',\n",
      "               '2025-09-24 17:30:00+00:00', '2025-09-24 18:30:00+00:00',\n",
      "               '2025-09-24 19:30:00+00:00', '2025-09-25 13:30:00+00:00',\n",
      "               '2025-09-25 14:30:00+00:00', '2025-09-25 15:30:00+00:00',\n",
      "               '2025-09-25 16:30:00+00:00', '2025-09-25 17:30:00+00:00',\n",
      "               '2025-09-25 18:30:00+00:00', '2025-09-25 19:30:00+00:00',\n",
      "               '2025-09-26 13:30:00+00:00', '2025-09-26 14:30:00+00:00',\n",
      "               '2025-09-26 15:30:00+00:00', '2025-09-26 16:30:00+00:00',\n",
      "               '2025-09-26 17:30:00+00:00', '2025-09-26 18:30:00+00:00',\n",
      "               '2025-09-26 19:30:00+00:00'],\n",
      "              dtype='datetime64[ns, UTC]', name='Datetime', freq=None)\n"
     ]
    }
   ],
   "source": [
    "file_list = glob.glob('./data/20[0-9][0-9][0-1][0-9][0-3][0-9]_[0-9][0-9][0-9][0-9][0-9][0-9].csv')\n",
    "# find the max file based on the date in the filename\n",
    "file_list.sort()\n",
    "# check if the file list is not empty\n",
    "if not file_list:\n",
    "    raise FileNotFoundError(\"No data files found in the data directory.\")\n",
    "latest_file = file_list[-1]\n",
    "# load the lastest file into pandas dataframe\n",
    "df_latest = pd.read_csv(latest_file, header=[0,1], index_col=0, parse_dates=True)\n",
    "print(df_latest.info())\n",
    "print(df_latest.columns.levels[0])\n",
    "print(df_latest.columns.levels[1])\n",
    "print(df_latest.index)\n"
   ]
  },
  {
   "cell_type": "code",
   "execution_count": 43,
   "id": "82c4d0ce",
   "metadata": {},
   "outputs": [
    {
     "data": {
      "image/png": "[encoded data removed]",
      "text/plain": [
       "<Figure size 1400x800 with 1 Axes>"
      ]
     },
     "metadata": {},
     "output_type": "display_data"
    }
   ],
   "source": [
    "\n",
    "plt.figure(figsize=(14, 8))\n",
    "for ticker in tickers:\n",
    "    plt.plot(df_latest.index, df_latest[(ticker, 'Close')], label=ticker)\n",
    "plt.xlabel('Date')\n",
    "plt.ylabel('Close Price')\n",
    "plt.title('Stock Prices Over Time')\n",
    "plt.legend()\n",
    "plt.show()\n",
    "#plt.savefig(f\"./plots/{datetime.now().strftime('%Y%m%d-%H%M%S')}.png\")"
   ]
  }
 ],
 "metadata": {
  "kernelspec": {
   "display_name": "venv",
   "language": "python",
   "name": "python3"
  },
  "language_info": {
   "codemirror_mode": {
    "name": "ipython",
    "version": 3
   },
   "file_extension": ".py",
   "mimetype": "text/x-python",
   "name": "python",
   "nbconvert_exporter": "python",
   "pygments_lexer": "ipython3",
   "version": "3.13.5"
  }
 },
 "nbformat": 4,
 "nbformat_minor": 5
}
