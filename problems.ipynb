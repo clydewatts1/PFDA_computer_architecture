{
 "cells": [
  {
   "cell_type": "markdown",
   "id": "edaaf6bd",
   "metadata": {},
   "source": [
    "# Compute Architecure - Assessment\n",
    "**Course**: TU 2025 25-26: 8645 -- COMPUTER INFRASTRUCTURE  \n",
    "**Lecturer**: Ian McLauglin  \n",
    "**Author**: Clyde Watts  \n",
    "\n",
    "\n",
    "\n",
    "\n",
    "\n",
    "\n"
   ]
  },
  {
   "cell_type": "markdown",
   "id": "885352aa",
   "metadata": {},
   "source": [
    "### Imports\n",
    "\n",
    "yfinance - financial ticker data from yahoo  - [yfinance](https://github.com/ranaroussi/yfinance)\n",
    "datetime - pythons inbuild date time\n",
    "logging - python logging\n",
    "os - operating system functions"
   ]
  },
  {
   "cell_type": "code",
   "execution_count": 21,
   "id": "a76c5c81",
   "metadata": {},
   "outputs": [],
   "source": [
    "import yfinance\n",
    "import logging\n",
    "from datetime import datetime, timedelta\n",
    "import os"
   ]
  },
  {
   "cell_type": "markdown",
   "id": "6cf1914b",
   "metadata": {},
   "source": [
    "##  Initialisation"
   ]
  },
  {
   "cell_type": "code",
   "execution_count": 22,
   "id": "2dca9f4b",
   "metadata": {},
   "outputs": [],
   "source": [
    "# init logging\n",
    "logging.basicConfig(level=logging.INFO)"
   ]
  },
  {
   "cell_type": "markdown",
   "id": "2c48bb87",
   "metadata": {},
   "source": [
    "## Problem 1: Data from yfinance\n",
    "\n",
    "Using the [yfinance](https://github.com/ranaroussi/yfinance) Python package, write a function called `get_data()` that downloads all hourly data for the previous five days for the five FAANG stocks:\n",
    "\n",
    "- Facebook (META)\n",
    "- Apple (AAPL)\n",
    "- Amazon (AMZN)\n",
    "- Netflix (NFLX)\n",
    "- Google (GOOG)\n",
    "\n",
    "The function should save the data into a folder called `data` in the root of your repository using a filename with the format `YYYYMMDD-HHmmss.csv` where `YYYYMMDD` is the four-digit year (e.g. 2025), followed by the two-digit month (e.g. `09` for September), followed by the two digit day, and `HHmmss` is hour, minutes, seconds.\n",
    "Create the `data` folder if you don't already have one."
   ]
  },
  {
   "cell_type": "markdown",
   "id": "68775099",
   "metadata": {},
   "source": [
    "Problem 1: Requirements\n",
    "\n",
    "##Extract##\n",
    "\n",
    "1. Extract from yfinance data the stock data for META,AAPL,AMZN,NFLX,GOOG\n",
    "2. For 5 complete previous days , that is TODAY - 6 days to TODAY -1 day , exclude TODAY because it is not complete\n",
    "3. File format will YYYYMMDD-HHmmss.csv where YYYY - is 4 digit year , MM month 01-12 , DD - is 01-31. HH - hours , 24 our clock , mm - minutes 00-59 , seconds 00-59.\n",
    "4. Grain - Hour\n",
    "\n",
    "Column\n",
    "Date , <ticket> ( Open,High,Low,Close,Volume) ....\n",
    "ticket is META , AAPL , AMZN , NFLX or GOOG\n",
    "Open - open price\n",
    "Close - close price\n",
    "High - High pricr\n",
    "Low - Low price\n",
    "Volumn - Volume in period \n",
    " \n",
    "\n",
    "Question - What about Daylight saving time - over and under hour every size months"
   ]
  },
  {
   "cell_type": "markdown",
   "id": "4e75dddb",
   "metadata": {},
   "source": []
  },
  {
   "cell_type": "code",
   "execution_count": 24,
   "id": "ea49ba64",
   "metadata": {},
   "outputs": [],
   "source": [
    "# prototype for extracting stock data\n",
    "tickers = [\"META\", \"AAPL\", \"AMZN\", \"NFLX\", \"GOOG\"]\n",
    "def get_data(tickers = tickers,start_date=None, end_date=None,interval=\"1h\",data_path=\"./data/\"):\n",
    "    \"\"\"Function to get stock data from yfinance\"\"\"\n",
    "    if start_date is None:\n",
    "        start_date = (datetime.now() - timedelta(days=6)).strftime(\"%Y-%m-%d\")\n",
    "        # create file name based on current date and time\n",
    "        file_name = f\"{data_path}{datetime.now().strftime('%Y%m%d_%H%M%S')}.csv\"\n",
    "    else:\n",
    "        # convert start_date to datetime object\n",
    "        start_date_time = datetime.strptime(start_date, \"%Y-%m-%d\")\n",
    "        # create file name based on start time and 23:59:59 of end date\n",
    "        start_date_str = start_date_time.strftime(\"%Y%m%d\") + \"_235959\"\n",
    "        file_name = f\"{data_path}{start_date_str}.csv\"\n",
    "    if end_date is None:\n",
    "        end_date = (datetime.now() - timedelta(days=1)).strftime(\"%Y-%m-%d\")\n",
    "    # check if directory exists\n",
    "    if not os.path.exists(data_path):\n",
    "        logging.info(f\"Creating directory: {data_path}\")\n",
    "        os.makedirs(data_path)\n",
    "    # if file exists then delete it\n",
    "    if os.path.exists(file_name):\n",
    "        logging.info(f\"Deleting existing file: {file_name}\")\n",
    "        os.remove(file_name)\n",
    "    logging.info(f\"Start Date: {start_date}, End Date: {end_date}\")\n",
    "    df_data = yfinance.download(tickers, interval=interval, group_by='ticker',start=start_date, end=end_date)\n",
    "    # Save the data to a CSV file\n",
    "    df_data.to_csv(file_name)\n",
    "    return df_data\n",
    "    \n",
    "start_date = (datetime.now() - timedelta(days=6)).strftime(\"%Y-%m-%d\")\n",
    "end_date = (datetime.now() - timedelta(days=1)).strftime(\"%Y-%m-%d\")\n",
    "file_timestamp = datetime.now().strftime(\"%Y%m%d_%H%M%S\")\n",
    "data_path = \"./data/\"\n",
    "\n"
   ]
  },
  {
   "cell_type": "code",
   "execution_count": 26,
   "id": "a180ff35",
   "metadata": {},
   "outputs": [
    {
     "name": "stderr",
     "output_type": "stream",
     "text": [
      "C:\\Users\\cw171001\\AppData\\Local\\Temp\\ipykernel_1708\\3410896173.py:26: FutureWarning: YF.download() has changed argument auto_adjust default to True\n",
      "  df_data = yfinance.download(tickers, interval=interval, group_by='ticker',start=start_date, end=end_date)\n",
      "[*********************100%***********************]  5 of 5 completed\n"
     ]
    }
   ],
   "source": [
    "df = get_data(tickers=tickers)"
   ]
  }
 ],
 "metadata": {
  "kernelspec": {
   "display_name": "venv",
   "language": "python",
   "name": "python3"
  },
  "language_info": {
   "codemirror_mode": {
    "name": "ipython",
    "version": 3
   },
   "file_extension": ".py",
   "mimetype": "text/x-python",
   "name": "python",
   "nbconvert_exporter": "python",
   "pygments_lexer": "ipython3",
   "version": "3.13.5"
  }
 },
 "nbformat": 4,
 "nbformat_minor": 5
}
